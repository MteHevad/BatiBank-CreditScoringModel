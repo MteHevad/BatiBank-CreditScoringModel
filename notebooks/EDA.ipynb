{
  "nbformat": 4,
  "nbformat_minor": 0,
  "metadata": {
    "colab": {
      "provenance": []
    },
    "kernelspec": {
      "name": "python3",
      "display_name": "Python 3"
    },
    "language_info": {
      "name": "python"
    }
  },
  "cells": [
    {
      "cell_type": "code",
      "execution_count": 1,
      "metadata": {
        "id": "yZZh0Fhq3c9m"
      },
      "outputs": [],
      "source": [
        "# Import necessary libraries\n",
        "from google.colab import files\n",
        "import pandas as pd"
      ]
    },
    {
      "cell_type": "code",
      "source": [
        "# Upload data.csv and Xente_Variable_Definitions.csv manually\n",
        "uploaded = files.upload()"
      ],
      "metadata": {
        "id": "3Gjc76Ic9131"
      },
      "execution_count": null,
      "outputs": []
    },
    {
      "cell_type": "code",
      "source": [
        "# Load the datasets into pandas DataFrames\n",
        "data = pd.read_csv('data.csv')\n",
        "variable_definitions = pd.read_csv('Xente_Variable_Definitions.csv')"
      ],
      "metadata": {
        "id": "UPlyagJ693o9"
      },
      "execution_count": null,
      "outputs": []
    },
    {
      "cell_type": "code",
      "source": [
        "# Display the first few rows of both datasets\n",
        "print(data.head())\n",
        "print(variable_definitions.head())"
      ],
      "metadata": {
        "id": "pu9GmO5d95Xm"
      },
      "execution_count": null,
      "outputs": []
    },
    {
      "cell_type": "code",
      "source": [
        "import pandas as pd\n",
        "import matplotlib.pyplot as plt\n",
        "import seaborn as sns"
      ],
      "metadata": {
        "id": "sMUK-eFF9xiv"
      },
      "execution_count": null,
      "outputs": []
    },
    {
      "cell_type": "code",
      "source": [
        "# Load the dataset (if not already loaded)\n",
        "data = pd.read_csv('data.csv')"
      ],
      "metadata": {
        "id": "sXeENb377XIW"
      },
      "execution_count": null,
      "outputs": []
    },
    {
      "cell_type": "code",
      "source": [
        "# Summary statistics\n",
        "print(\"Summary Statistics:\")\n",
        "print(data.describe())"
      ],
      "metadata": {
        "id": "3fzYdcIK7ZJO"
      },
      "execution_count": null,
      "outputs": []
    },
    {
      "cell_type": "code",
      "source": [
        "# Missing values\n",
        "print(\"\\nMissing Values:\")\n",
        "print(data.isnull().sum())"
      ],
      "metadata": {
        "id": "8lFqrdgr7bCW"
      },
      "execution_count": null,
      "outputs": []
    },
    {
      "cell_type": "code",
      "source": [
        "# Distribution of numerical features (e.g., Transaction Amount)\n",
        "plt.figure(figsize=(10,6))\n",
        "plt.hist(data['Amount'], bins=50)\n",
        "plt.title('Transaction Amount Distribution')\n",
        "plt.xlabel('Amount')\n",
        "plt.ylabel('Frequency')\n",
        "plt.show()"
      ],
      "metadata": {
        "id": "8BPKnNEq7c_d"
      },
      "execution_count": null,
      "outputs": []
    },
    {
      "cell_type": "code",
      "source": [
        "# Boxplot to detect outliers in Transaction Amount\n",
        "plt.figure(figsize=(10,6))\n",
        "sns.boxplot(x=data['Amount'])\n",
        "plt.title('Boxplot of Transaction Amount')\n",
        "plt.show()"
      ],
      "metadata": {
        "id": "8Srk4mUI7hje"
      },
      "execution_count": null,
      "outputs": []
    },
    {
      "cell_type": "code",
      "source": [
        "# Correlation matrix for numerical features\n",
        "corr_matrix = data.corr()\n",
        "plt.figure(figsize=(12,8))\n",
        "sns.heatmap(corr_matrix, annot=True, cmap='coolwarm')\n",
        "plt.title('Correlation Matrix')\n",
        "plt.show()"
      ],
      "metadata": {
        "id": "DwzBA9Rw7jPn"
      },
      "execution_count": null,
      "outputs": []
    }
  ]
}