{
  "nbformat": 4,
  "nbformat_minor": 0,
  "metadata": {
    "colab": {
      "provenance": []
    },
    "kernelspec": {
      "name": "python3",
      "display_name": "Python 3"
    },
    "language_info": {
      "name": "python"
    }
  },
  "cells": [
    {
      "cell_type": "code",
      "source": [
        "import pandas as pd\n",
        "import numpy as np\n",
        "import matplotlib.pyplot as plt\n",
        "from xverse.transformer import WOE\n",
        "from sklearn.model_selection import train_test_split"
      ],
      "metadata": {
        "id": "9GI7-LfmV7wa"
      },
      "execution_count": 3,
      "outputs": []
    },
    {
      "cell_type": "code",
      "source": [
        "# Import the required package for manual file upload\n",
        "from google.colab import files\n",
        "import pandas as pd\n",
        "\n",
        "# Upload the files (this will prompt you to select files from your local machine)\n",
        "uploaded = files.upload()"
      ],
      "metadata": {
        "id": "bWpY7zMSVqDJ"
      },
      "execution_count": null,
      "outputs": []
    },
    {
      "cell_type": "code",
      "source": [
        "# Step 1: Default Estimator (RFMS Proxy)\n",
        "# Assuming 'Amount', 'TransactionCount', and 'TotalTransactionAmount' are part of RFMS scores\n",
        "\n",
        "data['RFMS_Score'] = data['Amount'] + data['TotalTransactionAmount'] + data['TransactionCount']"
      ],
      "metadata": {
        "id": "KwhT7lthVsz4"
      },
      "execution_count": null,
      "outputs": []
    },
    {
      "cell_type": "code",
      "source": [
        "# Establish a boundary to classify users as 'Good' or 'Bad'\n",
        "threshold = data['RFMS_Score'].median()\n",
        "data['User_Label'] = np.where(data['RFMS_Score'] >= threshold, 'Good', 'Bad')"
      ],
      "metadata": {
        "id": "uwO33TX0X76Y"
      },
      "execution_count": null,
      "outputs": []
    },
    {
      "cell_type": "code",
      "source": [
        "# Step 2: Perform Weight of Evidence (WoE) binning on relevant columns\n",
        "woe_transformer = WOE()\n",
        "# Columns to perform WoE binning on (categorical variables)\n",
        "woe_columns = ['ProductCategory', 'ChannelId']"
      ],
      "metadata": {
        "id": "P15M7hSCYL9Z"
      },
      "execution_count": null,
      "outputs": []
    },
    {
      "cell_type": "code",
      "source": [
        "# Fit WoE transformer and transform the data\n",
        "woe_transformer.fit(data[woe_columns], data['User_Label'])\n",
        "woe_data = woe_transformer.transform(data[woe_columns])"
      ],
      "metadata": {
        "id": "Y5qInQPVYOUx"
      },
      "execution_count": null,
      "outputs": []
    },
    {
      "cell_type": "code",
      "source": [
        "# Merge WoE transformed columns back to original dataframe\n",
        "data = pd.concat([data, woe_data], axis=1)"
      ],
      "metadata": {
        "id": "8XTgobPUYQl7"
      },
      "execution_count": null,
      "outputs": []
    },
    {
      "cell_type": "code",
      "source": [
        "# Save the data with WoE and labels\n",
        "data.to_csv('rfms_default_estimator.csv', index=False)"
      ],
      "metadata": {
        "id": "sG4nyszTYS7h"
      },
      "execution_count": null,
      "outputs": []
    },
    {
      "cell_type": "code",
      "source": [
        "# Plot the RFMS score distribution\n",
        "plt.figure(figsize=(10,6))\n",
        "plt.hist(data['RFMS_Score'], bins=50)\n",
        "plt.title('RFMS Score Distribution')\n",
        "plt.xlabel('RFMS Score')\n",
        "plt.ylabel('Frequency')\n",
        "plt.show()"
      ],
      "metadata": {
        "id": "vZDxhx7GYU3s"
      },
      "execution_count": null,
      "outputs": []
    },
    {
      "cell_type": "code",
      "source": [
        "print(\"RFMS default estimator and WoE binning applied.\")"
      ],
      "metadata": {
        "id": "ghSYH7DDYXkl"
      },
      "execution_count": null,
      "outputs": []
    }
  ]
}