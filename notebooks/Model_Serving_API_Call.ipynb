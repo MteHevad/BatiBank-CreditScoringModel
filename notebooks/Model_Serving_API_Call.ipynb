{
  "nbformat": 4,
  "nbformat_minor": 0,
  "metadata": {
    "colab": {
      "provenance": []
    },
    "kernelspec": {
      "name": "python3",
      "display_name": "Python 3"
    },
    "language_info": {
      "name": "python"
    }
  },
  "cells": [
    {
      "cell_type": "code",
      "execution_count": null,
      "metadata": {
        "id": "QGvWHR7jZYba"
      },
      "outputs": [],
      "source": [
        "from flask import Flask, request, jsonify\n",
        "import pickle\n",
        "import pandas as pd"
      ]
    },
    {
      "cell_type": "code",
      "source": [
        "# Initialize Flask app\n",
        "app = Flask(__name__)"
      ],
      "metadata": {
        "id": "-qx5x5TeZZ9F"
      },
      "execution_count": null,
      "outputs": []
    },
    {
      "cell_type": "code",
      "source": [
        "# Load the trained models\n",
        "with open('logistic_regression_model.pkl', 'rb') as f:\n",
        "    log_reg_model = pickle.load(f)\n",
        "\n",
        "with open('random_forest_model.pkl', 'rb') as f:\n",
        "    rf_model = pickle.load(f)"
      ],
      "metadata": {
        "id": "tB3FjFlQZbri"
      },
      "execution_count": null,
      "outputs": []
    },
    {
      "cell_type": "code",
      "source": [
        "# Define API route for predictions\n",
        "@app.route('/predict', methods=['POST'])\n",
        "def predict():\n",
        "    # Parse input data from request\n",
        "    input_data = request.get_json(force=True)\n",
        "    input_df = pd.DataFrame([input_data])\n",
        "\n",
        "    # Ensure the data matches the model input structure\n",
        "    prediction_log_reg = log_reg_model.predict(input_df)\n",
        "    prediction_rf = rf_model.predict(input_df)\n",
        "\n",
        "    # Prepare the response\n",
        "    response = {\n",
        "        'Logistic Regression Prediction': int(prediction_log_reg[0]),\n",
        "        'Random Forest Prediction': int(prediction_rf[0])\n",
        "    }\n",
        "    return jsonify(response)"
      ],
      "metadata": {
        "id": "S2mosatJZdwq"
      },
      "execution_count": null,
      "outputs": []
    },
    {
      "cell_type": "code",
      "source": [
        "# Run the Flask app\n",
        "if __name__ == '__main__':\n",
        "    app.run(debug=True)"
      ],
      "metadata": {
        "id": "H7p_RtXXZg7s"
      },
      "execution_count": null,
      "outputs": []
    }
  ]
}