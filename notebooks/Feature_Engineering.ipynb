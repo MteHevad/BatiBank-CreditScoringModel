{
  "nbformat": 4,
  "nbformat_minor": 0,
  "metadata": {
    "colab": {
      "provenance": []
    },
    "kernelspec": {
      "name": "python3",
      "display_name": "Python 3"
    },
    "language_info": {
      "name": "python"
    }
  },
  "cells": [
    {
      "cell_type": "code",
      "execution_count": 1,
      "metadata": {
        "id": "l8elGiiQ8k89"
      },
      "outputs": [],
      "source": [
        "import pandas as pd\n",
        "from sklearn.preprocessing import OneHotEncoder, StandardScaler"
      ]
    },
    {
      "cell_type": "code",
      "source": [
        "# Load the dataset (if not already loaded)\n",
        "data = pd.read_csv('data.csv')"
      ],
      "metadata": {
        "id": "khOQCVfN8ukG"
      },
      "execution_count": null,
      "outputs": []
    },
    {
      "cell_type": "code",
      "source": [
        "# Handle missing values: Fill missing ProductCategory with 'Unknown'\n",
        "data['ProductCategory'].fillna('Unknown', inplace=True)"
      ],
      "metadata": {
        "id": "M5GBFOmn8wN2"
      },
      "execution_count": null,
      "outputs": []
    },
    {
      "cell_type": "code",
      "source": [
        "# Aggregate customer transaction data\n",
        "data['TotalTransactionAmount'] = data.groupby('CustomerId')['Amount'].transform('sum')\n",
        "data['TransactionCount'] = data.groupby('CustomerId')['TransactionId'].transform('count')"
      ],
      "metadata": {
        "id": "NE4sPPUY8x_k"
      },
      "execution_count": null,
      "outputs": []
    },
    {
      "cell_type": "code",
      "source": [
        "# Extracting time-based features from TransactionStartTime\n",
        "data['TransactionStartTime'] = pd.to_datetime(data['TransactionStartTime'])\n",
        "data['TransactionHour'] = data['TransactionStartTime'].dt.hour\n",
        "data['TransactionDay'] = data['TransactionStartTime'].dt.day\n",
        "data['TransactionMonth'] = data['TransactionStartTime'].dt.month"
      ],
      "metadata": {
        "id": "Xl9U-MlVMSdx"
      },
      "execution_count": null,
      "outputs": []
    },
    {
      "cell_type": "code",
      "source": [
        "from sklearn.preprocessing import OneHotEncoder\n",
        "\n",
        "# Encoding categorical variables (e.g., ProductCategory and ChannelId)\n",
        "encoder = OneHotEncoder(sparse_output=False)  # Use sparse_output=False to get a dense array output"
      ],
      "metadata": {
        "id": "ywrJZ_YcMY0u"
      },
      "execution_count": null,
      "outputs": []
    },
    {
      "cell_type": "code",
      "source": [
        "# Fit and transform the categorical columns and convert to DataFrame\n",
        "encoded_data = pd.DataFrame(encoder.fit_transform(data[['ProductCategory', 'ChannelId']]),\n",
        "                            columns=encoder.get_feature_names_out(['ProductCategory', 'ChannelId']))"
      ],
      "metadata": {
        "id": "s3Z6OJP-MbAe"
      },
      "execution_count": null,
      "outputs": []
    },
    {
      "cell_type": "code",
      "source": [
        "from sklearn.preprocessing import StandardScaler\n",
        "# Normalize/Standardize numerical features (e.g., Amount)\n",
        "# Normalize/Standardize numerical features (e.g., Amount, TotalTransactionAmount)\n",
        "scaler = StandardScaler()"
      ],
      "metadata": {
        "id": "rXmKeYdAMdSL"
      },
      "execution_count": null,
      "outputs": []
    },
    {
      "cell_type": "code",
      "source": [
        "# Apply scaling to the 'Amount' and 'TotalTransactionAmount' columns\n",
        "data[['Amount', 'TotalTransactionAmount']] = scaler.fit_transform(data[['Amount', 'TotalTransactionAmount']])"
      ],
      "metadata": {
        "id": "xysBxiWzMfBc"
      },
      "execution_count": null,
      "outputs": []
    },
    {
      "cell_type": "code",
      "source": [
        "# Display the scaled data\n",
        "print(data[['Amount', 'TotalTransactionAmount']].head())"
      ],
      "metadata": {
        "id": "5fPVfSgUMhu8"
      },
      "execution_count": null,
      "outputs": []
    },
    {
      "cell_type": "code",
      "source": [
        "# Save cleaned and feature-engineered dataset\n",
        "data.to_csv('cleaned_data.csv', index=False)"
      ],
      "metadata": {
        "id": "xM7EHvqsNXH4"
      },
      "execution_count": null,
      "outputs": []
    },
    {
      "cell_type": "code",
      "source": [
        "# Confirmation message\n",
        "print(\"Cleaned data saved to 'cleaned_data.csv'\")"
      ],
      "metadata": {
        "id": "-Tin5RYnNXp6"
      },
      "execution_count": null,
      "outputs": []
    },
    {
      "cell_type": "code",
      "source": [
        "from google.colab import files\n",
        "files.download('cleaned_data.csv')"
      ],
      "metadata": {
        "id": "yYgQVZkoNZ_L"
      },
      "execution_count": null,
      "outputs": []
    }
  ]
}