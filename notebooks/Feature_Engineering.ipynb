{
  "nbformat": 4,
  "nbformat_minor": 0,
  "metadata": {
    "colab": {
      "provenance": []
    },
    "kernelspec": {
      "name": "python3",
      "display_name": "Python 3"
    },
    "language_info": {
      "name": "python"
    }
  },
  "cells": [
    {
      "cell_type": "code",
      "execution_count": null,
      "metadata": {
        "id": "l8elGiiQ8k89"
      },
      "outputs": [],
      "source": [
        "import pandas as pd\n",
        "from sklearn.preprocessing import OneHotEncoder, StandardScaler"
      ]
    },
    {
      "cell_type": "code",
      "source": [
        "# Load the dataset (if not already loaded)\n",
        "data = pd.read_csv('data.csv')"
      ],
      "metadata": {
        "id": "khOQCVfN8ukG"
      },
      "execution_count": null,
      "outputs": []
    },
    {
      "cell_type": "code",
      "source": [
        "# Handle missing values: Fill missing ProductCategory with 'Unknown'\n",
        "data['ProductCategory'].fillna('Unknown', inplace=True)"
      ],
      "metadata": {
        "id": "M5GBFOmn8wN2"
      },
      "execution_count": null,
      "outputs": []
    },
    {
      "cell_type": "code",
      "source": [
        "# Aggregate customer transaction data\n",
        "data['TotalTransactionAmount'] = data.groupby('CustomerId')['Amount'].transform('sum')\n",
        "data['TransactionCount'] = data.groupby('CustomerId')['TransactionId'].transform('count')"
      ],
      "metadata": {
        "id": "NE4sPPUY8x_k"
      },
      "execution_count": null,
      "outputs": []
    },
    {
      "cell_type": "code",
      "source": [
        "# Extracting time-based features from TransactionStartTime\n",
        "data['TransactionStartTime'] = pd.to_datetime(data['TransactionStartTime'])\n",
        "data['TransactionHour'] = data['TransactionStartTime'].dt.hour\n",
        "data['TransactionDay'] = data['TransactionStartTime'].dt.day\n",
        "data['TransactionMonth'] = data['TransactionStartTime'].dt.month"
      ],
      "metadata": {
        "id": "6bptKYFz8z6g"
      },
      "execution_count": null,
      "outputs": []
    },
    {
      "cell_type": "code",
      "source": [
        "# Encoding categorical variables (e.g., ProductCategory and ChannelId)\n",
        "encoder = OneHotEncoder()\n",
        "encoded_data = pd.DataFrame(encoder.fit_transform(data[['ProductCategory', 'ChannelId']]).toarray(),\n",
        "                            columns=encoder.get_feature_names_out(['ProductCategory', 'ChannelId']))"
      ],
      "metadata": {
        "id": "w-tDqKEP84cW"
      },
      "execution_count": null,
      "outputs": []
    },
    {
      "cell_type": "code",
      "source": [
        "# Normalize/Standardize numerical features (e.g., Amount)\n",
        "scaler = StandardScaler()\n",
        "data[['Amount', 'TotalTransactionAmount']] = scaler.fit_transform(data[['Amount', 'TotalTransactionAmount']])"
      ],
      "metadata": {
        "id": "k_OExpFF86zV"
      },
      "execution_count": null,
      "outputs": []
    },
    {
      "cell_type": "code",
      "source": [
        "# Save the cleaned and engineered dataset\n",
        "cleaned_data = pd.concat([data, encoded_data], axis=1)\n",
        "cleaned_data.to_csv('cleaned_data.csv', index=False)"
      ],
      "metadata": {
        "id": "lYdJOdBw89Qv"
      },
      "execution_count": null,
      "outputs": []
    },
    {
      "cell_type": "code",
      "source": [
        "# Display first few rows of the cleaned dataset\n",
        "print(cleaned_data.head())"
      ],
      "metadata": {
        "id": "jYNjNhiq8_sf"
      },
      "execution_count": null,
      "outputs": []
    }
  ]
}