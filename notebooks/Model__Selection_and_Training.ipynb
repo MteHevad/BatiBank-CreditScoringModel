{
  "nbformat": 4,
  "nbformat_minor": 0,
  "metadata": {
    "colab": {
      "provenance": []
    },
    "kernelspec": {
      "name": "python3",
      "display_name": "Python 3"
    },
    "language_info": {
      "name": "python"
    }
  },
  "cells": [
    {
      "cell_type": "code",
      "execution_count": null,
      "metadata": {
        "id": "lBShXtK7Ygjs"
      },
      "outputs": [],
      "source": [
        "from sklearn.model_selection import train_test_split\n",
        "from sklearn.ensemble import RandomForestClassifier\n",
        "from sklearn.linear_model import LogisticRegression\n",
        "from sklearn.metrics import accuracy_score, precision_score, recall_score, f1_score, roc_auc_score"
      ]
    },
    {
      "cell_type": "code",
      "source": [
        "# Load the RFMS dataset\n",
        "data = pd.read_csv('rfms_default_estimator.csv')"
      ],
      "metadata": {
        "id": "vo1taCbvYjak"
      },
      "execution_count": null,
      "outputs": []
    },
    {
      "cell_type": "code",
      "source": [
        "# Step 1: Split the Data\n",
        "X = data.drop(columns=['User_Label'])\n",
        "y = data['User_Label'].map({'Good': 1, 'Bad': 0})  # Convert labels to binary"
      ],
      "metadata": {
        "id": "YShGGFhrYoHB"
      },
      "execution_count": null,
      "outputs": []
    },
    {
      "cell_type": "code",
      "source": [
        "# Split into training and testing sets\n",
        "X_train, X_test, y_train, y_test = train_test_split(X, y, test_size=0.3, random_state=42)"
      ],
      "metadata": {
        "id": "dqZNoAOzYsaK"
      },
      "execution_count": null,
      "outputs": []
    },
    {
      "cell_type": "code",
      "source": [
        "# Step 2: Train the Models\n",
        "\n",
        "# Model 1: Logistic Regression\n",
        "log_reg = LogisticRegression()\n",
        "log_reg.fit(X_train, y_train)\n",
        "y_pred_log_reg = log_reg.predict(X_test)"
      ],
      "metadata": {
        "id": "E3azWRArYv6J"
      },
      "execution_count": null,
      "outputs": []
    },
    {
      "cell_type": "code",
      "source": [
        "# Model 2: Random Forest\n",
        "rf = RandomForestClassifier(n_estimators=100, random_state=42)\n",
        "rf.fit(X_train, y_train)\n",
        "y_pred_rf = rf.predict(X_test)"
      ],
      "metadata": {
        "id": "fTakcwI-Y6Us"
      },
      "execution_count": null,
      "outputs": []
    },
    {
      "cell_type": "code",
      "source": [
        "# Step 3: Evaluate the Models\n",
        "def evaluate_model(y_true, y_pred):\n",
        "    accuracy = accuracy_score(y_true, y_pred)\n",
        "    precision = precision_score(y_true, y_pred)\n",
        "    recall = recall_score(y_true, y_pred)\n",
        "    f1 = f1_score(y_true, y_pred)\n",
        "    auc = roc_auc_score(y_true, y_pred)\n",
        "    return accuracy, precision, recall, f1, auc\n",
        "\n",
        "log_reg_metrics = evaluate_model(y_test, y_pred_log_reg)\n",
        "rf_metrics = evaluate_model(y_test, y_pred_rf)"
      ],
      "metadata": {
        "id": "V17ygf4UY737"
      },
      "execution_count": null,
      "outputs": []
    },
    {
      "cell_type": "code",
      "source": [
        "# Display results\n",
        "print(\"Logistic Regression Metrics: \", log_reg_metrics)\n",
        "print(\"Random Forest Metrics: \", rf_metrics)"
      ],
      "metadata": {
        "id": "oPbUKOviY-BB"
      },
      "execution_count": null,
      "outputs": []
    },
    {
      "cell_type": "code",
      "source": [
        "# Save the trained models for future use in API serving\n",
        "import pickle\n",
        "with open('logistic_regression_model.pkl', 'wb') as f:\n",
        "    pickle.dump(log_reg, f)\n",
        "with open('random_forest_model.pkl', 'wb') as f:\n",
        "    pickle.dump(rf, f)"
      ],
      "metadata": {
        "id": "Xg63xXAKZAEa"
      },
      "execution_count": null,
      "outputs": []
    }
  ]
}